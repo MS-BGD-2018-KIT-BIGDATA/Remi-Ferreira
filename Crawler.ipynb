{
 "cells": [
  {
   "cell_type": "code",
   "execution_count": 102,
   "metadata": {},
   "outputs": [],
   "source": [
    "from bs4 import BeautifulSoup\n",
    "from urllib.request import urlopen"
   ]
  },
  {
   "cell_type": "code",
   "execution_count": 103,
   "metadata": {},
   "outputs": [],
   "source": [
    "years = range(2010,2014)\n",
    "path_to_website = \"http://alize2.finances.gouv.fr/communes/eneuro/detail.php?icom=056&dep=075&type=BPS&param=5&exercice=\"\n",
    "#for year in years:\n",
    "#path = path_to_website + str(year)\n",
    "    #Do crawling"
   ]
  },
  {
   "cell_type": "code",
   "execution_count": 104,
   "metadata": {},
   "outputs": [],
   "source": [
    "#TO DELETE\n",
    "path = path_to_website + \"2013\""
   ]
  },
  {
   "cell_type": "code",
   "execution_count": 105,
   "metadata": {},
   "outputs": [],
   "source": [
    "soup = BeautifulSoup(urlopen(path), 'html.parser')"
   ]
  },
  {
   "cell_type": "code",
   "execution_count": 106,
   "metadata": {},
   "outputs": [],
   "source": [
    "extracted_values = soup.findAll(\"td\", { \"class\" : \"montantpetit G\" })"
   ]
  },
  {
   "cell_type": "code",
   "execution_count": 125,
   "metadata": {},
   "outputs": [],
   "source": [
    "values_triplet = []\n",
    "list_of_three = []\n",
    "for i in range(0,len(extracted_values)):\n",
    "    if len(list_of_three) == 0:\n",
    "        list_of_three.append(int(extracted_values[i].text.replace(' ', '')))\n",
    "    elif len(list_of_three)%3 != 0:\n",
    "        list_of_three.append(int(extracted_values[i].text.replace(' ', '')))\n",
    "    else:\n",
    "        values_triplet.append(list_of_three)\n",
    "        list_of_three = []\n",
    "        list_of_three.append(int(extracted_values[i].text.replace(' ', '')))"
   ]
  },
  {
   "cell_type": "code",
   "execution_count": 126,
   "metadata": {},
   "outputs": [
    {
     "data": {
      "text/plain": [
       "[[5234622, 2308, 2308],\n",
       " [5070274, 2235, 2235],\n",
       " [164349, 72, 72],\n",
       " [2624710, 1157, 1157],\n",
       " [2376591, 1048, 1048],\n",
       " [-248119, -109, -109],\n",
       " [-245693, -108, -108],\n",
       " [410042, 181, 181]]"
      ]
     },
     "execution_count": 126,
     "metadata": {},
     "output_type": "execute_result"
    }
   ],
   "source": [
    "values_triplet"
   ]
  },
  {
   "cell_type": "code",
   "execution_count": 127,
   "metadata": {},
   "outputs": [],
   "source": [
    "extracted_label = soup.findAll('td', {\"class\" : \"libellepetit G\"})"
   ]
  },
  {
   "cell_type": "code",
   "execution_count": 131,
   "metadata": {},
   "outputs": [
    {
     "data": {
      "text/plain": [
       "['TOTAL DES PRODUITS DE FONCTIONNEMENT = A',\n",
       " 'TOTAL DES CHARGES DE FONCTIONNEMENT = B',\n",
       " 'RESULTAT COMPTABLE = A - B = R',\n",
       " \"TOTAL DES RESSOURCES D'INVESTISSEMENT = C\",\n",
       " \"TOTAL DES EMPLOIS D'INVESTISSEMENT = D\",\n",
       " \"Besoin ou capacité de financement Résiduel de la section d'investissement = D - C\",\n",
       " \"= Besoin ou capacité de financement de la section d'investissement = E\",\n",
       " \"Résultat d'ensemble = R - E\"]"
      ]
     },
     "execution_count": 131,
     "metadata": {},
     "output_type": "execute_result"
    }
   ],
   "source": [
    "labels = []\n",
    "for label in extracted_label:\n",
    "    labels.append(label.text)"
   ]
  },
  {
   "cell_type": "code",
   "execution_count": 132,
   "metadata": {},
   "outputs": [],
   "source": [
    "def extract_finances(year):\n",
    "    path = path_to_website + str(year)\n",
    "    \n",
    "    soup = BeautifulSoup(urlopen(path), 'html.parser')\n",
    "    \n",
    "    extracted_label = soup.findAll('td', {\"class\" : \"libellepetit G\"})\n",
    "    extracted_values = soup.findAll(\"td\", { \"class\" : \"montantpetit G\" })\n",
    "    \n",
    "    labels = []\n",
    "    for label in extracted_label:\n",
    "        labels.append(label.text)\n",
    "    \n",
    "    values_triplet = []\n",
    "    list_of_three = []\n",
    "    for i in range(0,len(extracted_values)):\n",
    "        if len(list_of_three) == 0:\n",
    "            list_of_three.append(int(extracted_values[i].text.replace(' ', '')))\n",
    "        elif len(list_of_three)%3 != 0:\n",
    "            list_of_three.append(int(extracted_values[i].text.replace(' ', '')))\n",
    "        else:\n",
    "            values_triplet.append(list_of_three)\n",
    "            list_of_three = []\n",
    "            list_of_three.append(int(extracted_values[i].text.replace(' ', '')))\n",
    "    return(labels, values_triplet)"
   ]
  },
  {
   "cell_type": "code",
   "execution_count": 133,
   "metadata": {},
   "outputs": [],
   "source": [
    "a, b = extract_finances(2011)"
   ]
  },
  {
   "cell_type": "code",
   "execution_count": 135,
   "metadata": {},
   "outputs": [
    {
     "name": "stdout",
     "output_type": "stream",
     "text": [
      "['TOTAL DES PRODUITS DE FONCTIONNEMENT = A', 'TOTAL DES CHARGES DE FONCTIONNEMENT = B', 'RESULTAT COMPTABLE = A - B = R', \"TOTAL DES RESSOURCES D'INVESTISSEMENT = C\", \"TOTAL DES EMPLOIS D'INVESTISSEMENT = D\", \"Besoin ou capacité de financement Résiduel de la section d'investissement = D - C\", \"= Besoin ou capacité de financement de la section d'investissement = E\", \"Résultat d'ensemble = R - E\"]\n"
     ]
    }
   ],
   "source": [
    "print(a)"
   ]
  },
  {
   "cell_type": "code",
   "execution_count": 136,
   "metadata": {},
   "outputs": [
    {
     "name": "stdout",
     "output_type": "stream",
     "text": [
      "[[5686279, 2546, 2546], [5197859, 2327, 2327], [488420, 219, 219], [2822569, 1264, 1264], [2832512, 1268, 1268], [9943, 4, 4], [15363, 7, 7], [473057, 212, 212]]\n"
     ]
    }
   ],
   "source": [
    "print(b)"
   ]
  },
  {
   "cell_type": "code",
   "execution_count": null,
   "metadata": {},
   "outputs": [],
   "source": []
  },
  {
   "cell_type": "code",
   "execution_count": null,
   "metadata": {},
   "outputs": [],
   "source": []
  },
  {
   "cell_type": "code",
   "execution_count": null,
   "metadata": {},
   "outputs": [],
   "source": []
  },
  {
   "cell_type": "code",
   "execution_count": null,
   "metadata": {},
   "outputs": [],
   "source": []
  },
  {
   "cell_type": "code",
   "execution_count": null,
   "metadata": {},
   "outputs": [],
   "source": []
  }
 ],
 "metadata": {
  "kernelspec": {
   "display_name": "StarterKit_venv3",
   "language": "python",
   "name": "starterkit_venv3"
  },
  "language_info": {
   "codemirror_mode": {
    "name": "ipython",
    "version": 3
   },
   "file_extension": ".py",
   "mimetype": "text/x-python",
   "name": "python",
   "nbconvert_exporter": "python",
   "pygments_lexer": "ipython3",
   "version": "3.6.2"
  }
 },
 "nbformat": 4,
 "nbformat_minor": 2
}
