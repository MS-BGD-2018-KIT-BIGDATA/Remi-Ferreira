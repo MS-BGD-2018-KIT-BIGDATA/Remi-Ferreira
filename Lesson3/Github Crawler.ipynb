{
 "cells": [
  {
   "cell_type": "code",
   "execution_count": 128,
   "metadata": {},
   "outputs": [],
   "source": [
    "from bs4 import *\n",
    "from urllib.request import urlopen\n",
    "import pandas as pd\n",
    "import re\n",
    "import requests\n",
    "import json"
   ]
  },
  {
   "cell_type": "code",
   "execution_count": 129,
   "metadata": {},
   "outputs": [],
   "source": [
    "path = \"https://gist.github.com/paulmillr/2657075\"\n",
    "\n",
    "# Now we get html code from page\n",
    "soup = BeautifulSoup(urlopen(path), 'html.parser')\n",
    "    \n",
    "# We extract values and labels for the ones that are in bold in the html code \n",
    "extracted_td = soup.findAll('td')\n",
    "text = str(extracted_td)\n",
    "soup_td = BeautifulSoup(text, 'html.parser')\n",
    "\n",
    "extracted_contributors = soup_td.findAll('a', {\"href\": re.compile(\"https://github.com/*\")})"
   ]
  },
  {
   "cell_type": "code",
   "execution_count": 130,
   "metadata": {},
   "outputs": [],
   "source": [
    "contributors = []\n",
    "for contributor in extracted_contributors:\n",
    "        contributors.append(contributor.text)\n",
    "contributors = contributors[:256]"
   ]
  },
  {
   "cell_type": "code",
   "execution_count": 133,
   "metadata": {},
   "outputs": [],
   "source": [
    "# Fonction to get mean of stars for all the repositories owned of a github user:\n",
    "def get_mean_stars(github_user):\n",
    "    print('OK')\n",
    "    url_repositories = \"https://api.github.com/users/\" + github_user\n",
    "    response_user_repositories = requests.get(url=url_repositories)\n",
    "    json_repo = json.loads(response_user_repositories.content)\n",
    "    print(json_repo)\n",
    "    repositories_owned = json_repo[\"public_repos\"]\n",
    "    \n",
    "    url_stars = \"https://api.github.com/users/\" + github_user + \"/repos\"\n",
    "    response_user_stars = requests.get(url=url_stars)\n",
    "    json_stars = json.loads(response_user_stars)\n",
    "    stars = 0\n",
    "    for i in range(0, repositories_owned):\n",
    "        stars = stars + json_content2[i][\"stargazers_count\"]\n",
    "    mean_of_stars = stars/repositories_owned\n",
    "    return mean_of_stars"
   ]
  },
  {
   "cell_type": "code",
   "execution_count": 134,
   "metadata": {},
   "outputs": [
    {
     "name": "stdout",
     "output_type": "stream",
     "text": [
      "OK\n",
      "{'message': \"API rate limit exceeded for 137.194.23.75. (But here's the good news: Authenticated requests get a higher rate limit. Check out the documentation for more details.)\", 'documentation_url': 'https://developer.github.com/v3/#rate-limiting'}\n"
     ]
    },
    {
     "ename": "KeyError",
     "evalue": "'public_repos'",
     "output_type": "error",
     "traceback": [
      "\u001b[0;31m---------------------------------------------------------------------------\u001b[0m",
      "\u001b[0;31mKeyError\u001b[0m                                  Traceback (most recent call last)",
      "\u001b[0;32m<ipython-input-134-f860ae421214>\u001b[0m in \u001b[0;36m<module>\u001b[0;34m()\u001b[0m\n\u001b[1;32m      1\u001b[0m \u001b[0mmean_of_stars\u001b[0m \u001b[0;34m=\u001b[0m \u001b[0;34m[\u001b[0m\u001b[0;34m]\u001b[0m\u001b[0;34m\u001b[0m\u001b[0m\n\u001b[1;32m      2\u001b[0m \u001b[0;32mfor\u001b[0m \u001b[0mgithub_user\u001b[0m \u001b[0;32min\u001b[0m \u001b[0mcontributors\u001b[0m\u001b[0;34m:\u001b[0m\u001b[0;34m\u001b[0m\u001b[0m\n\u001b[0;32m----> 3\u001b[0;31m     \u001b[0mmean_of_stars\u001b[0m\u001b[0;34m.\u001b[0m\u001b[0mappend\u001b[0m\u001b[0;34m(\u001b[0m\u001b[0mget_mean_stars\u001b[0m\u001b[0;34m(\u001b[0m\u001b[0mgithub_user\u001b[0m\u001b[0;34m)\u001b[0m\u001b[0;34m)\u001b[0m\u001b[0;34m\u001b[0m\u001b[0m\n\u001b[0m\u001b[1;32m      4\u001b[0m \u001b[0mmean_of_stars\u001b[0m\u001b[0;34m\u001b[0m\u001b[0m\n",
      "\u001b[0;32m<ipython-input-133-030df1a65712>\u001b[0m in \u001b[0;36mget_mean_stars\u001b[0;34m(github_user)\u001b[0m\n\u001b[1;32m      6\u001b[0m     \u001b[0mjson_repo\u001b[0m \u001b[0;34m=\u001b[0m \u001b[0mjson\u001b[0m\u001b[0;34m.\u001b[0m\u001b[0mloads\u001b[0m\u001b[0;34m(\u001b[0m\u001b[0mresponse_user_repositories\u001b[0m\u001b[0;34m.\u001b[0m\u001b[0mcontent\u001b[0m\u001b[0;34m)\u001b[0m\u001b[0;34m\u001b[0m\u001b[0m\n\u001b[1;32m      7\u001b[0m     \u001b[0mprint\u001b[0m\u001b[0;34m(\u001b[0m\u001b[0mjson_repo\u001b[0m\u001b[0;34m)\u001b[0m\u001b[0;34m\u001b[0m\u001b[0m\n\u001b[0;32m----> 8\u001b[0;31m     \u001b[0mrepositories_owned\u001b[0m \u001b[0;34m=\u001b[0m \u001b[0mjson_repo\u001b[0m\u001b[0;34m[\u001b[0m\u001b[0;34m\"public_repos\"\u001b[0m\u001b[0;34m]\u001b[0m\u001b[0;34m\u001b[0m\u001b[0m\n\u001b[0m\u001b[1;32m      9\u001b[0m \u001b[0;34m\u001b[0m\u001b[0m\n\u001b[1;32m     10\u001b[0m     \u001b[0murl_stars\u001b[0m \u001b[0;34m=\u001b[0m \u001b[0;34m\"https://api.github.com/users/\"\u001b[0m \u001b[0;34m+\u001b[0m \u001b[0mgithub_user\u001b[0m \u001b[0;34m+\u001b[0m \u001b[0;34m\"/repos\"\u001b[0m\u001b[0;34m\u001b[0m\u001b[0m\n",
      "\u001b[0;31mKeyError\u001b[0m: 'public_repos'"
     ]
    }
   ],
   "source": [
    "mean_of_stars = []\n",
    "for github_user in contributors:\n",
    "    mean_of_stars.append(get_mean_stars(github_user))\n",
    "mean_of_stars"
   ]
  },
  {
   "cell_type": "code",
   "execution_count": null,
   "metadata": {},
   "outputs": [],
   "source": []
  }
 ],
 "metadata": {
  "kernelspec": {
   "display_name": "StarterKit_venv3",
   "language": "python",
   "name": "starterkit_venv3"
  },
  "language_info": {
   "codemirror_mode": {
    "name": "ipython",
    "version": 3
   },
   "file_extension": ".py",
   "mimetype": "text/x-python",
   "name": "python",
   "nbconvert_exporter": "python",
   "pygments_lexer": "ipython3",
   "version": "3.6.2"
  }
 },
 "nbformat": 4,
 "nbformat_minor": 2
}
